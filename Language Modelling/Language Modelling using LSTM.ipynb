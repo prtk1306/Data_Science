{
 "cells": [
  {
   "cell_type": "markdown",
   "metadata": {},
   "source": [
    "## Machine Learning Project : Language Modelling using LSTM"
   ]
  },
  {
   "cell_type": "markdown",
   "metadata": {},
   "source": [
    "**Language modelling** is one the most prominent examples of NLP using deep learning. With the growing use and popularity of Chat-bots and automated replies, all of us have knowingly or unknowingly used language modelling. To implement language modelling we have to understand the concepts of linguistics, the way humans thinks and the way they communicate. Although Since the conception of language, linguists have tried to formulate rules to dictate the correct format and structure of language, rarely are the rules followed in our daily conversations. The structure of the language in professional literature varies heavily from the structure of the text in an internet Chat room. <br><br>\n",
    "In Machine Learning, like always the model is often as good as the data that is used to train it. Hence, the multiple different tasks of Language Modelling require the different type of data to adhere to the problem statement. There different tasks of Language Modeling are as given below. <br><br>\n",
    "* Text Generation\n",
    "* Optical Character Recognition\n",
    "* Handwriting Recognition.\n",
    "* Machine Translation.\n",
    "* Spelling Correction.\n",
    "* Image Captioning.\n",
    "* Text Summarization etc\n",
    "\n",
    "The goal of the Language Modeling task we have applied in this notebook is Text Generation. In text generation we try to predict a sequence of words one word at a time given a few initial words for context and thereby generate text. The model we have implemented below is a probabilistic model that aims to predict the next words by understanding the context of the words preceding it. Consider the examples given below. <br><br>\n",
    "<i> ”I have arranged a meeting with Mr. “</i><br><br> As humans we can quite confidently say that the words following Mr. has to be a name. Understanding such complex relationships between words is difficult for computers. Consider another example given below. <br><br>\n",
    "<i> “Contract revenues were £166.6 million, up ____ from £143.1 million for the first quarter of 2019.”</i><br><br> In this example we as humans can quite easily figure out that the blank in the sentence has to be replaced by a percentage to make sense of the sentence. Having the machine learn such intricate details such as understanding the accurate use of the percentage symbol and generating sentences that make sense to humans is our motive behind this project. <br><br>\n",
    "The detailed implementation and the intricacies of the model as explained as and when we implement them in the project below.\n"
   ]
  },
  {
   "cell_type": "markdown",
   "metadata": {},
   "source": [
    "## Python Libraries"
   ]
  },
  {
   "cell_type": "code",
   "execution_count": 1,
   "metadata": {},
   "outputs": [
    {
     "name": "stderr",
     "output_type": "stream",
     "text": [
      "[nltk_data] Downloading package reuters to\n",
      "[nltk_data]     C:\\Users\\prtk1\\AppData\\Roaming\\nltk_data...\n",
      "[nltk_data]   Package reuters is already up-to-date!\n",
      "Using TensorFlow backend.\n"
     ]
    }
   ],
   "source": [
    "#import required libraries\n",
    "import numpy as np\n",
    "import pandas as pd\n",
    "import matplotlib.pyplot as plt\n",
    "\n",
    "#NLP related libraries\n",
    "import pprint\n",
    "import nltk\n",
    "nltk.download('reuters')\n",
    "from nltk.corpus import reuters\n",
    "\n",
    "#Neural Network related libraries\n",
    "from keras.preprocessing.sequence import pad_sequences\n",
    "from keras.layers import Embedding, LSTM, Dense, Dropout\n",
    "from keras.preprocessing.text import Tokenizer\n",
    "from keras.callbacks import EarlyStopping\n",
    "from keras.models import Sequential\n",
    "import keras.utils as ku\n",
    "from keras.preprocessing.text import Tokenizer\n",
    "\n",
    "#other packages\n",
    "import time as time\n",
    "from IPython.display import display, Markdown\n",
    "from IPython.display import display\n",
    "from time import sleep\n",
    "from IPython.display import Markdown as md"
   ]
  },
  {
   "cell_type": "markdown",
   "metadata": {},
   "source": [
    "## Dataset\n",
    "\n",
    "For this assignment will have decided to use the Reuters dataset which is essentially a collection of the news articles from the Reuters Financial Newswire services. The dataset consists of 10,788 documents which are basically the news articles and spanning over 90 categories. There are some documents that are a part of more than 1 categories. For example, an article on gas prices will be part of both crude and fuel. For our project we have decided to work with the documents that are categorized under ‘Silver’. We import the dataset using NLTK(Natural Language Toolkit), it’s a resource to develop python programs to work with human language data.<br><br>\n",
    "\n",
    "The Implementation of the project follows the pattern.\n",
    "\n",
    "1.\tWe implement our model using 50% of the dataset and understand the results\n",
    "2.\tWe implement our model using the entire dataset and compare the results of adding more training data with our previous model.\n",
    "3.\tWe then proceed to add 2 more LSTM layers on top of our previous model\n",
    "4.\tWe then examine the effects of regularization by implementing dropout.\n",
    "5.\tFinally, we run a model that is a culmination of all these models and also increase the number of epochs with the implementation of Early stopping. \n",
    "\n"
   ]
  },
  {
   "cell_type": "markdown",
   "metadata": {},
   "source": [
    "## Data Preparation\n",
    "\n",
    "<br>We begin the data preparation step by converting the entire corpus in lowercase and then splitting the corpus into sentences. Since computers are comfortable working with numbers more than words. In the data preparation step mentioned below, we begin by performing Tokenization which is assigning an integer value to the words of the corpus (dataset). We use the inbuilt tokenization() model by keras to perform this task.  We then convert the entire corpus which is split up into lowercase sentences into a ploy flat dataset of sentence seqences.<br><br>\n",
    "The length of all the tokenized sentences is not equal. The sentences vary in length and to make sure that we maintain the consistency in the model we make use of the concept of padding. In padding we begin by finding the length of the longest sentence and then pad all the other sentences of the dataset with zeros to make up for the shorter sentence length. We have implemented pre padding which means that for a courpus with max sentence length of 100, any particular sentence of length 70 will be padded 30 0s before the actual tokens of the sentence to make sure that all the sentences of the dataset have equal length.<br><br>\n",
    "We also aim to implement the N-gram model where we look at the last N words and predicts the next word. If we assume the value of N to be 1, then we implement the unigram model where we look at one previous word and make our prediction based on one word .We then create X_train and y_train. Where we use the N-gram sentence sequence is X_train and the next word in the sentence sequence is y_train.   \n"
   ]
  },
  {
   "cell_type": "code",
   "execution_count": 2,
   "metadata": {},
   "outputs": [],
   "source": [
    "#read the data from nltk.corpus class\n",
    "def reuters_dataset():\n",
    "    files = reuters.fileids(\"silver\")\n",
    "    data = []\n",
    "    for filename in files:\n",
    "        temp_data = []\n",
    "        for word in list(reuters.words(filename)):\n",
    "            temp_data.append(word.lower())\n",
    "        data.append(temp_data)\n",
    "    return data"
   ]
  },
  {
   "cell_type": "code",
   "execution_count": 3,
   "metadata": {},
   "outputs": [
    {
     "name": "stdout",
     "output_type": "stream",
     "text": [
      "Total Documents in the dataset:  14\n"
     ]
    }
   ],
   "source": [
    "dataset = reuters_dataset()\n",
    "dataset = dataset[:int(len(dataset)/2)]\n",
    "print('Total Documents in the dataset: ', len(dataset))"
   ]
  },
  {
   "cell_type": "code",
   "execution_count": 4,
   "metadata": {},
   "outputs": [
    {
     "name": "stdout",
     "output_type": "stream",
     "text": [
      "Total word count in the whole corpus:  758\n",
      "X_train.shape:  (2866, 570)\n",
      "y_train.shape:  (2866, 758)\n"
     ]
    }
   ],
   "source": [
    "#assign digit to each number using tokenizer class\n",
    "tokenizer = Tokenizer()\n",
    "tokenizer.fit_on_texts(dataset)\n",
    "\n",
    "word_count = len(tokenizer.word_index) + 1\n",
    "print('Total word count in the whole corpus: ', word_count)\n",
    "\n",
    "text_to_digit = []\n",
    "for element in dataset:\n",
    "    t2d_element = tokenizer.texts_to_sequences([element])[0]\n",
    "    for i in range(1, len(t2d_element)):\n",
    "        text_to_digit.append(t2d_element[:i+1])\n",
    "        \n",
    "max_seq = max([len(x) for x in text_to_digit])\n",
    "t2d_seq = np.array(pad_sequences(text_to_digit, \n",
    "                                 padding='pre',\n",
    "                                 maxlen=max_seq))\n",
    "\n",
    "X_train = t2d_seq[:,:-1]\n",
    "print('X_train.shape: ', X_train.shape)\n",
    "\n",
    "y_train_temp = t2d_seq[:,-1]\n",
    "y_train = ku.to_categorical(y_train_temp, num_classes=word_count)\n",
    "print('y_train.shape: ', y_train.shape)"
   ]
  },
  {
   "cell_type": "markdown",
   "metadata": {},
   "source": [
    "## LSTM Recurrent Neural Network"
   ]
  },
  {
   "cell_type": "markdown",
   "metadata": {},
   "source": [
    "We have implemented the sequential model as our neural network model. The sequential model is a linear stack of layers, we have added layers to the network by using the .add() method. <br><br>\n",
    "We proceed by adding an Embedding layer. The embedding layer is often used while working on textual data in neural networks. The embedding layer is initialized with random weights and will learn the embeddings of all the words in the training dataset.\n",
    "The output of the softmax function is equivalent to a categorical probability distribution, it tells you the probability of the new word to be generated. The word with the highest probability is chosen as the output. This probability is calculated by taking into account the context of the previous words.<br><br>\n",
    "Optimization is the task of searching for parameters that minimize our loss function. We open use categorical crossentropy when it is a multiclass classification task. Cross entropy is a loss function, used to measure the dissimilarity between the distribution of observed class labels and the predicted probabilities of class membership.  In case of NLP the loss is calculated by measuring the dissimilarity between the predicted probabilities of the words and the \n",
    "We have implemeneted Adam which is an optimization algorithm that can be used instead of the classical stochastic gradient descent procedure to update network weights iteratively based on training data.<br><br>\n",
    "The most crucial piece of our model is the LSTM layer that we’ve implemented with 100 units. LSTM which stands for Long Short Term Memory are a special kind of RNN. They are capable of learning long-term dependencies. Understanding long-term dependencies is crucial for text generation task because the model has to remember the context of the sentence, the units of conversion, word associations etc. <br><br>\n",
    "<img src=\"ff.png\" alt=\"drawing\" width=\"600\"/><br>\n",
    "<center>Image Courtesy : <a href=\"https://www.udemy.com/course/deeplearning/learn/lecture/6820164?start=30#overview\">Deep Learning A-Z™: Hands-on Artificial Neural Network</a></center>\n",
    "\n",
    "<img src=\"bp.png\" alt=\"drawing\" width=\"600\"/>\n",
    "<center>Image Courtesy : <a href=\"https://www.udemy.com/course/deeplearning/learn/lecture/6820164?start=30#overview\">Deep Learning A-Z™: Hands-on Artificial Neural Network</a></center><br><br>\n",
    "During back-propagation, RNNs suffer from the vanishing gradient problem. The gradient is the value we use to update the weights of the neural network. The vanishing gradient problems is caused because the gradient shrinks as it backpropogates through the network. Having lower gradient means that the layers don’t learn as well as they should have. This problem leads to RNNs having short term memory and causing it to forget the dependencies in language modelling.  LSTM provide a solution to this problem. \n",
    "The architecture of an LSTM is as shown below.<br><br>\n"
   ]
  },
  {
   "cell_type": "markdown",
   "metadata": {},
   "source": [
    "<img src=\"LSTM.png\" alt=\"drawing\" width=\"800\"/>\n",
    "<center>Image Courtesy : <a href=\"https://colah.github.io/posts/2015-08-Understanding-LSTMs/\">Understanding LSTM Networks.</a></center>"
   ]
  },
  {
   "cell_type": "markdown",
   "metadata": {},
   "source": [
    "In the above diagram, each line carries an entire vector, from the output of one node to the inputs of others. The pink circles represent pointwise operations, like vector addition, while the yellow boxes are learned neural network layers. Lines merging denote concatenation, while a line forking denote its content being copied and the copies going to different locations."
   ]
  },
  {
   "cell_type": "markdown",
   "metadata": {},
   "source": [
    "<img src=\"LSTM_sign.png\" alt=\"drawing\" width=\"800\"/>\n",
    "<center>Image Courtesy : <a href=\"https://colah.github.io/posts/2015-08-Understanding-LSTMs/\">Understanding LSTM Networks.</a></center>"
   ]
  },
  {
   "cell_type": "markdown",
   "metadata": {},
   "source": [
    "LSTMs have implemented the idea of using gates. The gates are crucial in regulating whether to add or remove information from the cell state. The gates are made of sigmoid neural net layer and a pointwise multiplication operator. The decision of whether or not remember the information is done by the forget layer. The forget layer looks at the current input and the preceding data to decide whether or not to retain the information. Since we are using a sigmoid layer, the expected value from the forget layer will be between 0 and 1. A value of 1 retains the entire information while 0 completely ignores it. The input gate is the second gate and is crucial in deciding exactly which information is to be retained if any. Once we have decided which piece of information we are going to retain we then update the cell state with this new information that was approved by the forget gate layer and selected by the input gate. The next step is outputting the correct word. "
   ]
  },
  {
   "cell_type": "markdown",
   "metadata": {},
   "source": [
    "### Single Layer LSTM Model"
   ]
  },
  {
   "cell_type": "code",
   "execution_count": 5,
   "metadata": {
    "scrolled": false
   },
   "outputs": [
    {
     "data": {
      "text/markdown": [
       "<br>**\\*\\*\\*\\*\\*\\*\\*\\*\\*\\*\\*\\*\\*\\*\\*\\*\\*\\*\\*\\*  Model  Summary  \\*\\*\\*\\*\\*\\*\\*\\*\\*\\*\\*\\*\\*\\*\\*\\*\\*\\*\\*\\*\\***<br>"
      ],
      "text/plain": [
       "<IPython.core.display.Markdown object>"
      ]
     },
     "metadata": {},
     "output_type": "display_data"
    },
    {
     "name": "stdout",
     "output_type": "stream",
     "text": [
      "Model: \"sequential_1\"\n",
      "_________________________________________________________________\n",
      "Layer (type)                 Output Shape              Param #   \n",
      "=================================================================\n",
      "embedding_1 (Embedding)      (None, 570, 10)           7580      \n",
      "_________________________________________________________________\n",
      "lstm_1 (LSTM)                (None, 100)               44400     \n",
      "_________________________________________________________________\n",
      "dense_1 (Dense)              (None, 758)               76558     \n",
      "=================================================================\n",
      "Total params: 128,538\n",
      "Trainable params: 128,538\n",
      "Non-trainable params: 0\n",
      "_________________________________________________________________\n"
     ]
    }
   ],
   "source": [
    "#initialize the network\n",
    "model_1l = Sequential()\n",
    "\n",
    "model_1l.add(Embedding(word_count, 10, input_length=max_seq-1))\n",
    "\n",
    "#add first LSTM and Dropout regularization layer to avoid overfitting\n",
    "model_1l.add(LSTM(units=100))\n",
    "\n",
    "model_1l.add(Dense(word_count, activation='softmax'))\n",
    "\n",
    "#compile the RNN\n",
    "model_1l.compile(optimizer='adam', \n",
    "                  loss='categorical_crossentropy',\n",
    "                  metrics=['accuracy'])\n",
    "\n",
    "display(Markdown('<br>**\\*\\*\\*\\*\\*\\*\\*\\*\\*\\*\\*\\*\\*\\*\\*\\*\\*\\*\\*\\*  Model  Summary  \\*\\*\\*\\*\\*\\*\\*\\*\\*\\*\\*\\*\\*\\*\\*\\*\\*\\*\\*\\*\\***<br>'))\n",
    "model_1l.summary()"
   ]
  },
  {
   "cell_type": "markdown",
   "metadata": {},
   "source": [
    "### Model Training"
   ]
  },
  {
   "cell_type": "code",
   "execution_count": 6,
   "metadata": {},
   "outputs": [],
   "source": [
    "def fit(model, X, y, epoch):\n",
    "    #include timing details\n",
    "    dh = display('',display_id=True)\n",
    "    dh.update(md(\"<br>Training is in progress.....\"))\n",
    "    t1 = time.time()\n",
    "\n",
    "    #fitting the RNN to the training set\n",
    "    model_history = model.fit(X, y, epochs=epoch, verbose=0)\n",
    "\n",
    "    tt = time.time()-t1\n",
    "    avg_per_epoch_1l = round(tt/(model_history.epoch[-1]+1),3)\n",
    "    dh.update(md(\"<br>Training is completed! <br><br>Total training time: **{} seconds** <br>Average Training time per epoch: **{} seconds**\".format(round(tt,3), avg_per_epoch_1l)))\n",
    "    \n",
    "    return model_history"
   ]
  },
  {
   "cell_type": "code",
   "execution_count": 7,
   "metadata": {},
   "outputs": [
    {
     "data": {
      "text/markdown": [
       "<br>Training is completed! <br><br>Total training time: **3287.588 seconds** <br>Average Training time per epoch: **65.752 seconds**"
      ],
      "text/plain": [
       "<IPython.core.display.Markdown object>"
      ]
     },
     "metadata": {},
     "output_type": "display_data"
    },
    {
     "name": "stderr",
     "output_type": "stream",
     "text": [
      "C:\\Users\\prtk1\\Anaconda3\\envs\\tf-gpu\\lib\\site-packages\\tensorflow_core\\python\\framework\\indexed_slices.py:433: UserWarning: Converting sparse IndexedSlices to a dense Tensor of unknown shape. This may consume a large amount of memory.\n",
      "  \"Converting sparse IndexedSlices to a dense Tensor of unknown shape. \"\n"
     ]
    }
   ],
   "source": [
    "history_1l = fit(model_1l, X_train, y_train, epoch=50)"
   ]
  },
  {
   "cell_type": "markdown",
   "metadata": {},
   "source": [
    "### Model Training Results"
   ]
  },
  {
   "cell_type": "code",
   "execution_count": 8,
   "metadata": {},
   "outputs": [],
   "source": [
    "def plot_graph(model_history):\n",
    "    #plot the graph\n",
    "    display(Markdown('<br>**\\*\\*\\*\\*\\*\\*\\*\\*\\*\\*\\*\\*\\*\\*\\*\\*\\*\\*\\*\\*\\*\\*\\*\\*\\*\\*\\*\\*\\*\\*\\*\\*\\*\\*\\*\\*\\*\\*\\*\\*\\*\\*\\*\\*\\*\\*\\*\\*\\*\\*\\*\\*\\*\\*\\*\\*\\*\\*\\*\\*\\*\\*\\*\\*\\*\\*\\*\\*\\*\\*\\*\\*\\*     Training Summary    \\*\\*\\*\\*\\*\\*\\*\\*\\*\\*\\*\\*\\*\\*\\*\\*\\*\\*\\*\\*\\*\\*\\*\\*\\*\\*\\*\\*\\*\\*\\*\\*\\*\\*\\*\\*\\*\\*\\*\\*\\*\\*\\*\\*\\*\\*\\*\\*\\*\\*\\*\\*\\*\\*\\*\\*\\*\\*\\*\\*\\*\\*\\*\\*\\*\\*\\*\\*\\*\\*\\*\\*\\*\\***<br>'))\n",
    "\n",
    "    #accuracy graph\n",
    "    fig, axes = plt.subplots(nrows=1, ncols=2,figsize=(15,5))\n",
    "    ax = axes.ravel()\n",
    "    ax[0].plot(range(0,model_history.params['epochs']), [acc * 100 for acc in model_history.history['accuracy']], label='Accuracy')\n",
    "    ax[0].set_title('Accuracy vs. epoch', fontsize=15)\n",
    "    ax[0].set_ylabel('Accuracy', fontsize=15)\n",
    "    ax[0].set_xlabel('epoch', fontsize=15)\n",
    "    ax[0].legend()\n",
    "\n",
    "    #loss graph\n",
    "    ax[1].plot(range(0,model_history.params['epochs']), model_history.history['loss'], label='Loss', color='r')\n",
    "    ax[1].set_title('Loss vs. epoch', fontsize=15)\n",
    "    ax[1].set_ylabel('Loss', fontsize=15)\n",
    "    ax[1].set_xlabel('epoch', fontsize=15)\n",
    "    ax[1].legend()\n",
    "\n",
    "    #display the graph\n",
    "    plt.show()"
   ]
  },
  {
   "cell_type": "code",
   "execution_count": 9,
   "metadata": {
    "scrolled": false
   },
   "outputs": [
    {
     "data": {
      "text/markdown": [
       "<br>**\\*\\*\\*\\*\\*\\*\\*\\*\\*\\*\\*\\*\\*\\*\\*\\*\\*\\*\\*\\*\\*\\*\\*\\*\\*\\*\\*\\*\\*\\*\\*\\*\\*\\*\\*\\*\\*\\*\\*\\*\\*\\*\\*\\*\\*\\*\\*\\*\\*\\*\\*\\*\\*\\*\\*\\*\\*\\*\\*\\*\\*\\*\\*\\*\\*\\*\\*\\*\\*\\*\\*\\*\\*     Training Summary    \\*\\*\\*\\*\\*\\*\\*\\*\\*\\*\\*\\*\\*\\*\\*\\*\\*\\*\\*\\*\\*\\*\\*\\*\\*\\*\\*\\*\\*\\*\\*\\*\\*\\*\\*\\*\\*\\*\\*\\*\\*\\*\\*\\*\\*\\*\\*\\*\\*\\*\\*\\*\\*\\*\\*\\*\\*\\*\\*\\*\\*\\*\\*\\*\\*\\*\\*\\*\\*\\*\\*\\*\\*\\***<br>"
      ],
      "text/plain": [
       "<IPython.core.display.Markdown object>"
      ]
     },
     "metadata": {},
     "output_type": "display_data"
    },
    {
     "data": {
      "image/png": "[encoded data removed]",
      "text/plain": [
       "<Figure size 1080x360 with 2 Axes>"
      ]
     },
     "metadata": {
      "needs_background": "light"
     },
     "output_type": "display_data"
    }
   ],
   "source": [
    "plot_graph(history_1l)"
   ]
  },
  {
   "cell_type": "markdown",
   "metadata": {},
   "source": [
    "### Prediction"
   ]
  },
  {
   "cell_type": "code",
   "execution_count": 10,
   "metadata": {},
   "outputs": [],
   "source": [
    "#predict the new words based on the input string\n",
    "def prediction(model, input_string, new_wc):\n",
    "    \n",
    "    #loop through new requested word count\n",
    "    for count in range(new_wc):\n",
    "\n",
    "        #convert the text into sequence of mapped digits\n",
    "        t2d = tokenizer.texts_to_sequences([input_string])[0]\n",
    "        \n",
    "        #prefix the zeros to each sequence\n",
    "        t2d = pad_sequences([t2d], maxlen=max_seq-1, padding='pre')\n",
    "        \n",
    "        #predict the new word\n",
    "        pred = model.predict_classes(t2d, verbose=0)\n",
    "\n",
    "        #append the prediced word into the input string\n",
    "        result = \"\"\n",
    "        \n",
    "        #fetch the word and the index of the predicted word\n",
    "        for word, index in tokenizer.word_index.items():\n",
    "            \n",
    "            #check if the predicted word found and then append it\n",
    "            if index == pred:\n",
    "                result = word\n",
    "                break           #break if the word found\n",
    "                \n",
    "        #append the predicted word to the input string\n",
    "        input_string += \" \" + result\n",
    "        \n",
    "    #return the input + predicted string\n",
    "    return input_string"
   ]
  },
  {
   "cell_type": "markdown",
   "metadata": {},
   "source": [
    "# Area of Improvements"
   ]
  },
  {
   "cell_type": "markdown",
   "metadata": {},
   "source": [
    "## 1) Increasing Corpus Size"
   ]
  },
  {
   "cell_type": "markdown",
   "metadata": {},
   "source": [
    "In the first variation of our model we increase the size of our dataset by 100%. In the previous model we selected half of the data from the 'Silver' category of the Reuters datsaset. Our intuition behind this move is that by adding more training data the model will be able to predict future word sequences better. <br>\n",
    "\n",
    "The number of the documents that we will working with now is 29 compared to 13 used in the previous model. The data preparation step and model architecture remains the same as the last model."
   ]
  },
  {
   "cell_type": "code",
   "execution_count": 13,
   "metadata": {},
   "outputs": [
    {
     "name": "stdout",
     "output_type": "stream",
     "text": [
      "Total Documents in the dataset:  29\n"
     ]
    }
   ],
   "source": [
    "#read the dataset\n",
    "dataset = reuters_dataset()\n",
    "print('Total Documents in the dataset: ', len(dataset))"
   ]
  },
  {
   "cell_type": "markdown",
   "metadata": {},
   "source": [
    "### Data Preparation"
   ]
  },
  {
   "cell_type": "code",
   "execution_count": 14,
   "metadata": {},
   "outputs": [
    {
     "name": "stdout",
     "output_type": "stream",
     "text": [
      "Total word count in the whole corpus:  1333\n",
      "X_train.shape:  (6379, 570)\n",
      "y_train.shape:  (6379, 1333)\n"
     ]
    }
   ],
   "source": [
    "#assign digit to each number using tokenizer class\n",
    "tokenizer = Tokenizer()\n",
    "tokenizer.fit_on_texts(dataset)\n",
    "\n",
    "word_count = len(tokenizer.word_index) + 1\n",
    "print('Total word count in the whole corpus: ', word_count)\n",
    "\n",
    "text_to_digit = []\n",
    "for element in dataset:\n",
    "    t2d_element = tokenizer.texts_to_sequences([element])[0]\n",
    "    for i in range(1, len(t2d_element)):\n",
    "        text_to_digit.append(t2d_element[:i+1])\n",
    "        \n",
    "max_seq = max([len(x) for x in text_to_digit])\n",
    "t2d_seq = np.array(pad_sequences(text_to_digit, \n",
    "                                 padding='pre',\n",
    "                                 maxlen=max_seq))\n",
    "\n",
    "X_train = t2d_seq[:,:-1]\n",
    "print('X_train.shape: ', X_train.shape)\n",
    "\n",
    "y_train_temp = t2d_seq[:,-1]\n",
    "y_train = ku.to_categorical(y_train_temp, num_classes=word_count)\n",
    "print('y_train.shape: ', y_train.shape)"
   ]
  },
  {
   "cell_type": "markdown",
   "metadata": {},
   "source": [
    "### Model"
   ]
  },
  {
   "cell_type": "code",
   "execution_count": 15,
   "metadata": {},
   "outputs": [
    {
     "data": {
      "text/markdown": [
       "<br>**\\*\\*\\*\\*\\*\\*\\*\\*\\*\\*\\*\\*\\*\\*\\*\\*\\*\\*\\*\\*  Model  Summary  \\*\\*\\*\\*\\*\\*\\*\\*\\*\\*\\*\\*\\*\\*\\*\\*\\*\\*\\*\\*\\***<br>"
      ],
      "text/plain": [
       "<IPython.core.display.Markdown object>"
      ]
     },
     "metadata": {},
     "output_type": "display_data"
    },
    {
     "name": "stdout",
     "output_type": "stream",
     "text": [
      "Model: \"sequential_2\"\n",
      "_________________________________________________________________\n",
      "Layer (type)                 Output Shape              Param #   \n",
      "=================================================================\n",
      "embedding_2 (Embedding)      (None, 570, 10)           13330     \n",
      "_________________________________________________________________\n",
      "lstm_2 (LSTM)                (None, 100)               44400     \n",
      "_________________________________________________________________\n",
      "dense_2 (Dense)              (None, 1333)              134633    \n",
      "=================================================================\n",
      "Total params: 192,363\n",
      "Trainable params: 192,363\n",
      "Non-trainable params: 0\n",
      "_________________________________________________________________\n"
     ]
    }
   ],
   "source": [
    "#initialize the network\n",
    "model_ids = Sequential()\n",
    "\n",
    "model_ids.add(Embedding(word_count, 10, input_length=max_seq-1))\n",
    "\n",
    "#add first LSTM and Dropout regularization layer to avoid overfitting\n",
    "model_ids.add(LSTM(units=100))\n",
    "\n",
    "model_ids.add(Dense(word_count, activation='softmax'))\n",
    "\n",
    "#compile the RNN\n",
    "model_ids.compile(optimizer='adam', \n",
    "                  loss='categorical_crossentropy',\n",
    "                  metrics=['accuracy'])\n",
    "\n",
    "display(Markdown('<br>**\\*\\*\\*\\*\\*\\*\\*\\*\\*\\*\\*\\*\\*\\*\\*\\*\\*\\*\\*\\*  Model  Summary  \\*\\*\\*\\*\\*\\*\\*\\*\\*\\*\\*\\*\\*\\*\\*\\*\\*\\*\\*\\*\\***<br>'))\n",
    "model_ids.summary()"
   ]
  },
  {
   "cell_type": "markdown",
   "metadata": {},
   "source": [
    "### Model Training"
   ]
  },
  {
   "cell_type": "code",
   "execution_count": 16,
   "metadata": {},
   "outputs": [
    {
     "data": {
      "text/markdown": [
       "<br>Training is completed! <br><br>Total training time: **8048.424 seconds** <br>Average Training time per epoch: **160.968 seconds**"
      ],
      "text/plain": [
       "<IPython.core.display.Markdown object>"
      ]
     },
     "metadata": {},
     "output_type": "display_data"
    },
    {
     "name": "stderr",
     "output_type": "stream",
     "text": [
      "C:\\Users\\prtk1\\Anaconda3\\envs\\tf-gpu\\lib\\site-packages\\tensorflow_core\\python\\framework\\indexed_slices.py:433: UserWarning: Converting sparse IndexedSlices to a dense Tensor of unknown shape. This may consume a large amount of memory.\n",
      "  \"Converting sparse IndexedSlices to a dense Tensor of unknown shape. \"\n"
     ]
    }
   ],
   "source": [
    "history_ids = fit(model_ids, X_train, y_train, epoch=50)"
   ]
  },
  {
   "cell_type": "markdown",
   "metadata": {},
   "source": [
    "### Model Training Results"
   ]
  },
  {
   "cell_type": "code",
   "execution_count": 17,
   "metadata": {},
   "outputs": [
    {
     "data": {
      "text/markdown": [
       "<br>**\\*\\*\\*\\*\\*\\*\\*\\*\\*\\*\\*\\*\\*\\*\\*\\*\\*\\*\\*\\*\\*\\*\\*\\*\\*\\*\\*\\*\\*\\*\\*\\*\\*\\*\\*\\*\\*\\*\\*\\*\\*\\*\\*\\*\\*\\*\\*\\*\\*\\*\\*\\*\\*\\*\\*\\*\\*\\*\\*\\*\\*\\*\\*\\*\\*\\*\\*\\*\\*\\*\\*\\*\\*     Training Summary    \\*\\*\\*\\*\\*\\*\\*\\*\\*\\*\\*\\*\\*\\*\\*\\*\\*\\*\\*\\*\\*\\*\\*\\*\\*\\*\\*\\*\\*\\*\\*\\*\\*\\*\\*\\*\\*\\*\\*\\*\\*\\*\\*\\*\\*\\*\\*\\*\\*\\*\\*\\*\\*\\*\\*\\*\\*\\*\\*\\*\\*\\*\\*\\*\\*\\*\\*\\*\\*\\*\\*\\*\\*\\***<br>"
      ],
      "text/plain": [
       "<IPython.core.display.Markdown object>"
      ]
     },
     "metadata": {},
     "output_type": "display_data"
    },
    {
     "data": {
      "image/png": "[encoded data removed]",
      "text/plain": [
       "<Figure size 1080x360 with 2 Axes>"
      ]
     },
     "metadata": {
      "needs_background": "light"
     },
     "output_type": "display_data"
    }
   ],
   "source": [
    "plot_graph(history_ids)"
   ]
  },
  {
   "cell_type": "markdown",
   "metadata": {},
   "source": [
    "## 2) Stacked LSTM layers"
   ]
  },
  {
   "cell_type": "markdown",
   "metadata": {},
   "source": [
    "In our second variation, we increase the depth of our model by adding two more LSTM layers.Stacked LSTMs or Deep LSTMs were introduced by Graves, et al. in their application of LSTMs to speech recognition. The intuition behind stacking LSTM layers is that we can add more levels of abstraction of input observation over time. <br>\n",
    "\n",
    "We continue to use entire data of 'Silver' category from the Reuters dataset."
   ]
  },
  {
   "cell_type": "code",
   "execution_count": 19,
   "metadata": {},
   "outputs": [
    {
     "data": {
      "text/markdown": [
       "<br>**\\*\\*\\*\\*\\*\\*\\*\\*\\*\\*\\*\\*\\*\\*\\*\\*\\*\\*\\*\\*  Model  Summary  \\*\\*\\*\\*\\*\\*\\*\\*\\*\\*\\*\\*\\*\\*\\*\\*\\*\\*\\*\\*\\***<br>"
      ],
      "text/plain": [
       "<IPython.core.display.Markdown object>"
      ]
     },
     "metadata": {},
     "output_type": "display_data"
    },
    {
     "name": "stdout",
     "output_type": "stream",
     "text": [
      "Model: \"sequential_3\"\n",
      "_________________________________________________________________\n",
      "Layer (type)                 Output Shape              Param #   \n",
      "=================================================================\n",
      "embedding_3 (Embedding)      (None, 570, 10)           13330     \n",
      "_________________________________________________________________\n",
      "lstm_3 (LSTM)                (None, 570, 100)          44400     \n",
      "_________________________________________________________________\n",
      "lstm_4 (LSTM)                (None, 570, 100)          80400     \n",
      "_________________________________________________________________\n",
      "lstm_5 (LSTM)                (None, 100)               80400     \n",
      "_________________________________________________________________\n",
      "dense_3 (Dense)              (None, 1333)              134633    \n",
      "=================================================================\n",
      "Total params: 353,163\n",
      "Trainable params: 353,163\n",
      "Non-trainable params: 0\n",
      "_________________________________________________________________\n"
     ]
    }
   ],
   "source": [
    "#initialize the network\n",
    "model_ml = Sequential()\n",
    "\n",
    "model_ml.add(Embedding(word_count, 10, input_length=max_seq-1))\n",
    "\n",
    "#adding first LSTM layer\n",
    "model_ml.add(LSTM(units=100, return_sequences=True))\n",
    "\n",
    "#adding second LSTM layer\n",
    "model_ml.add(LSTM(units=100, return_sequences=True))\n",
    "\n",
    "#adding third LSTM layer\n",
    "model_ml.add(LSTM(units=100))\n",
    "\n",
    "model_ml.add(Dense(word_count, activation='softmax'))\n",
    "\n",
    "#compile the RNN\n",
    "model_ml.compile(optimizer='adam', \n",
    "                  loss='categorical_crossentropy',\n",
    "                  metrics=['accuracy'])\n",
    "\n",
    "display(Markdown('<br>**\\*\\*\\*\\*\\*\\*\\*\\*\\*\\*\\*\\*\\*\\*\\*\\*\\*\\*\\*\\*  Model  Summary  \\*\\*\\*\\*\\*\\*\\*\\*\\*\\*\\*\\*\\*\\*\\*\\*\\*\\*\\*\\*\\***<br>'))\n",
    "model_ml.summary()"
   ]
  },
  {
   "cell_type": "markdown",
   "metadata": {},
   "source": [
    "### Model Training"
   ]
  },
  {
   "cell_type": "code",
   "execution_count": 20,
   "metadata": {},
   "outputs": [
    {
     "data": {
      "text/markdown": [
       "<br>Training is completed! <br><br>Total training time: **21892.485 seconds** <br>Average Training time per epoch: **437.85 seconds**"
      ],
      "text/plain": [
       "<IPython.core.display.Markdown object>"
      ]
     },
     "metadata": {},
     "output_type": "display_data"
    },
    {
     "name": "stderr",
     "output_type": "stream",
     "text": [
      "C:\\Users\\prtk1\\Anaconda3\\envs\\tf-gpu\\lib\\site-packages\\tensorflow_core\\python\\framework\\indexed_slices.py:433: UserWarning: Converting sparse IndexedSlices to a dense Tensor of unknown shape. This may consume a large amount of memory.\n",
      "  \"Converting sparse IndexedSlices to a dense Tensor of unknown shape. \"\n"
     ]
    }
   ],
   "source": [
    "history_ml = fit(model_ml, X_train, y_train, epoch=50)    "
   ]
  },
  {
   "cell_type": "markdown",
   "metadata": {},
   "source": [
    "### Model Training Results"
   ]
  },
  {
   "cell_type": "code",
   "execution_count": 21,
   "metadata": {},
   "outputs": [
    {
     "data": {
      "text/markdown": [
       "<br>**\\*\\*\\*\\*\\*\\*\\*\\*\\*\\*\\*\\*\\*\\*\\*\\*\\*\\*\\*\\*\\*\\*\\*\\*\\*\\*\\*\\*\\*\\*\\*\\*\\*\\*\\*\\*\\*\\*\\*\\*\\*\\*\\*\\*\\*\\*\\*\\*\\*\\*\\*\\*\\*\\*\\*\\*\\*\\*\\*\\*\\*\\*\\*\\*\\*\\*\\*\\*\\*\\*\\*\\*\\*     Training Summary    \\*\\*\\*\\*\\*\\*\\*\\*\\*\\*\\*\\*\\*\\*\\*\\*\\*\\*\\*\\*\\*\\*\\*\\*\\*\\*\\*\\*\\*\\*\\*\\*\\*\\*\\*\\*\\*\\*\\*\\*\\*\\*\\*\\*\\*\\*\\*\\*\\*\\*\\*\\*\\*\\*\\*\\*\\*\\*\\*\\*\\*\\*\\*\\*\\*\\*\\*\\*\\*\\*\\*\\*\\*\\***<br>"
      ],
      "text/plain": [
       "<IPython.core.display.Markdown object>"
      ]
     },
     "metadata": {},
     "output_type": "display_data"
    },
    {
     "data": {
      "image/png": "[encoded data removed]",
      "text/plain": [
       "<Figure size 1080x360 with 2 Axes>"
      ]
     },
     "metadata": {
      "needs_background": "light"
     },
     "output_type": "display_data"
    }
   ],
   "source": [
    "plot_graph(history_ml)"
   ]
  },
  {
   "cell_type": "markdown",
   "metadata": {},
   "source": [
    "## 3) Adding Dropout Regularization"
   ]
  },
  {
   "cell_type": "markdown",
   "metadata": {},
   "source": [
    "<b>Dropout</b> is a regularization technique for neural network models. Dropout is a technique where we randomly selected neurons are ignored during training. This means that their contribution to the activation of downstream neurons is temporally removed on the forward pass and any weight updates are not applied to the neuron on the backward pass.<br><br>\n",
    "Below we have performed and compared the performance of the models having dropout rate 0.15."
   ]
  },
  {
   "cell_type": "markdown",
   "metadata": {},
   "source": [
    "### Model"
   ]
  },
  {
   "cell_type": "code",
   "execution_count": 25,
   "metadata": {},
   "outputs": [
    {
     "data": {
      "text/markdown": [
       "<br>**\\*\\*\\*\\*\\*\\*\\*\\*\\*\\*\\*\\*\\*\\*\\*\\*\\*\\*\\*\\*  Model  Summary  \\*\\*\\*\\*\\*\\*\\*\\*\\*\\*\\*\\*\\*\\*\\*\\*\\*\\*\\*\\*\\***<br>"
      ],
      "text/plain": [
       "<IPython.core.display.Markdown object>"
      ]
     },
     "metadata": {},
     "output_type": "display_data"
    },
    {
     "name": "stdout",
     "output_type": "stream",
     "text": [
      "Model: \"sequential_5\"\n",
      "_________________________________________________________________\n",
      "Layer (type)                 Output Shape              Param #   \n",
      "=================================================================\n",
      "embedding_5 (Embedding)      (None, 570, 10)           13330     \n",
      "_________________________________________________________________\n",
      "lstm_9 (LSTM)                (None, 570, 100)          44400     \n",
      "_________________________________________________________________\n",
      "dropout_4 (Dropout)          (None, 570, 100)          0         \n",
      "_________________________________________________________________\n",
      "lstm_10 (LSTM)               (None, 570, 100)          80400     \n",
      "_________________________________________________________________\n",
      "dropout_5 (Dropout)          (None, 570, 100)          0         \n",
      "_________________________________________________________________\n",
      "lstm_11 (LSTM)               (None, 100)               80400     \n",
      "_________________________________________________________________\n",
      "dropout_6 (Dropout)          (None, 100)               0         \n",
      "_________________________________________________________________\n",
      "dense_5 (Dense)              (None, 1333)              134633    \n",
      "=================================================================\n",
      "Total params: 353,163\n",
      "Trainable params: 353,163\n",
      "Non-trainable params: 0\n",
      "_________________________________________________________________\n"
     ]
    }
   ],
   "source": [
    "#initialize the network\n",
    "model_dr = Sequential()\n",
    "\n",
    "model_dr.add(Embedding(word_count, 10, input_length=max_seq-1))\n",
    "\n",
    "#adding first LSTM layer\n",
    "model_dr.add(LSTM(units=100, return_sequences=True))\n",
    "model_dr.add(Dropout(0.15))  #adding dropout layer to avoid overfitting\n",
    "\n",
    "#adding second LSTM layer\n",
    "model_dr.add(LSTM(units=100, return_sequences=True))\n",
    "model_dr.add(Dropout(0.15))  #adding dropout layer to avoid overfitting\n",
    "\n",
    "#adding third LSTM layer\n",
    "model_dr.add(LSTM(units=100))\n",
    "model_dr.add(Dropout(0.15))  #adding dropout layer to avoid overfitting\n",
    "\n",
    "model_dr.add(Dense(word_count, activation='softmax'))\n",
    "\n",
    "#compile the RNN\n",
    "model_dr.compile(optimizer='adam', \n",
    "                  loss='categorical_crossentropy',\n",
    "                  metrics=['accuracy'])\n",
    "\n",
    "display(Markdown('<br>**\\*\\*\\*\\*\\*\\*\\*\\*\\*\\*\\*\\*\\*\\*\\*\\*\\*\\*\\*\\*  Model  Summary  \\*\\*\\*\\*\\*\\*\\*\\*\\*\\*\\*\\*\\*\\*\\*\\*\\*\\*\\*\\*\\***<br>'))\n",
    "model_dr.summary()"
   ]
  },
  {
   "cell_type": "markdown",
   "metadata": {},
   "source": [
    "### Model Training"
   ]
  },
  {
   "cell_type": "code",
   "execution_count": 26,
   "metadata": {},
   "outputs": [
    {
     "data": {
      "text/markdown": [
       "<br>Training is completed! <br><br>Total training time: **11671.107 seconds** <br>Average Training time per epoch: **233.422 seconds**"
      ],
      "text/plain": [
       "<IPython.core.display.Markdown object>"
      ]
     },
     "metadata": {},
     "output_type": "display_data"
    },
    {
     "name": "stderr",
     "output_type": "stream",
     "text": [
      "C:\\Users\\prtk1\\Anaconda3\\envs\\tf-gpu\\lib\\site-packages\\tensorflow_core\\python\\framework\\indexed_slices.py:433: UserWarning: Converting sparse IndexedSlices to a dense Tensor of unknown shape. This may consume a large amount of memory.\n",
      "  \"Converting sparse IndexedSlices to a dense Tensor of unknown shape. \"\n"
     ]
    }
   ],
   "source": [
    "history_dr = fit(model_dr, X_train, y_train, epoch=50)"
   ]
  },
  {
   "cell_type": "markdown",
   "metadata": {},
   "source": [
    "### Model Training Results"
   ]
  },
  {
   "cell_type": "code",
   "execution_count": 27,
   "metadata": {},
   "outputs": [
    {
     "data": {
      "text/markdown": [
       "<br>**\\*\\*\\*\\*\\*\\*\\*\\*\\*\\*\\*\\*\\*\\*\\*\\*\\*\\*\\*\\*\\*\\*\\*\\*\\*\\*\\*\\*\\*\\*\\*\\*\\*\\*\\*\\*\\*\\*\\*\\*\\*\\*\\*\\*\\*\\*\\*\\*\\*\\*\\*\\*\\*\\*\\*\\*\\*\\*\\*\\*\\*\\*\\*\\*\\*\\*\\*\\*\\*\\*\\*\\*\\*     Training Summary    \\*\\*\\*\\*\\*\\*\\*\\*\\*\\*\\*\\*\\*\\*\\*\\*\\*\\*\\*\\*\\*\\*\\*\\*\\*\\*\\*\\*\\*\\*\\*\\*\\*\\*\\*\\*\\*\\*\\*\\*\\*\\*\\*\\*\\*\\*\\*\\*\\*\\*\\*\\*\\*\\*\\*\\*\\*\\*\\*\\*\\*\\*\\*\\*\\*\\*\\*\\*\\*\\*\\*\\*\\*\\***<br>"
      ],
      "text/plain": [
       "<IPython.core.display.Markdown object>"
      ]
     },
     "metadata": {},
     "output_type": "display_data"
    },
    {
     "data": {
      "image/png": "[encoded data removed]",
      "text/plain": [
       "<Figure size 1080x360 with 2 Axes>"
      ]
     },
     "metadata": {
      "needs_background": "light"
     },
     "output_type": "display_data"
    }
   ],
   "source": [
    "plot_graph(history_dr)"
   ]
  },
  {
   "cell_type": "markdown",
   "metadata": {},
   "source": [
    "## 4) Increasing Number of Epochs + EarlyStopping"
   ]
  },
  {
   "cell_type": "markdown",
   "metadata": {},
   "source": [
    "The final model is a culmination of all the model that we have implemented so far. In this we use the entire dataset, with 3 LSTM layers, dropout regularization, and increased number of epochs from 50 to 100 and examined the performance of the model."
   ]
  },
  {
   "cell_type": "markdown",
   "metadata": {},
   "source": [
    "### Model"
   ]
  },
  {
   "cell_type": "code",
   "execution_count": 29,
   "metadata": {},
   "outputs": [
    {
     "data": {
      "text/markdown": [
       "<br>**\\*\\*\\*\\*\\*\\*\\*\\*\\*\\*\\*\\*\\*\\*\\*\\*\\*\\*\\*\\*  Model  Summary  \\*\\*\\*\\*\\*\\*\\*\\*\\*\\*\\*\\*\\*\\*\\*\\*\\*\\*\\*\\*\\***<br>"
      ],
      "text/plain": [
       "<IPython.core.display.Markdown object>"
      ]
     },
     "metadata": {},
     "output_type": "display_data"
    },
    {
     "name": "stdout",
     "output_type": "stream",
     "text": [
      "Model: \"sequential_6\"\n",
      "_________________________________________________________________\n",
      "Layer (type)                 Output Shape              Param #   \n",
      "=================================================================\n",
      "embedding_6 (Embedding)      (None, 570, 10)           13330     \n",
      "_________________________________________________________________\n",
      "lstm_12 (LSTM)               (None, 570, 100)          44400     \n",
      "_________________________________________________________________\n",
      "dropout_7 (Dropout)          (None, 570, 100)          0         \n",
      "_________________________________________________________________\n",
      "lstm_13 (LSTM)               (None, 570, 100)          80400     \n",
      "_________________________________________________________________\n",
      "dropout_8 (Dropout)          (None, 570, 100)          0         \n",
      "_________________________________________________________________\n",
      "lstm_14 (LSTM)               (None, 100)               80400     \n",
      "_________________________________________________________________\n",
      "dropout_9 (Dropout)          (None, 100)               0         \n",
      "_________________________________________________________________\n",
      "dense_6 (Dense)              (None, 1333)              134633    \n",
      "=================================================================\n",
      "Total params: 353,163\n",
      "Trainable params: 353,163\n",
      "Non-trainable params: 0\n",
      "_________________________________________________________________\n"
     ]
    }
   ],
   "source": [
    "#initialize the network\n",
    "model_me = Sequential()\n",
    "\n",
    "model_me.add(Embedding(word_count, 10, input_length=max_seq-1))\n",
    "\n",
    "#adding first LSTM layer\n",
    "model_me.add(LSTM(units=100, return_sequences=True))\n",
    "model_me.add(Dropout(0.15))  #adding dropout layer to avoid overfitting\n",
    "\n",
    "#adding second LSTM layer\n",
    "model_me.add(LSTM(units=100, return_sequences=True))\n",
    "model_me.add(Dropout(0.15))  #adding dropout layer to avoid overfitting\n",
    "\n",
    "#adding third LSTM layer\n",
    "model_me.add(LSTM(units=100))\n",
    "model_me.add(Dropout(0.15))  #adding dropout layer to avoid overfitting\n",
    "\n",
    "model_me.add(Dense(word_count, activation='softmax'))\n",
    "\n",
    "#compile the RNN\n",
    "model_me.compile(optimizer='adam', \n",
    "                  loss='categorical_crossentropy',\n",
    "                  metrics=['accuracy'])\n",
    "\n",
    "display(Markdown('<br>**\\*\\*\\*\\*\\*\\*\\*\\*\\*\\*\\*\\*\\*\\*\\*\\*\\*\\*\\*\\*  Model  Summary  \\*\\*\\*\\*\\*\\*\\*\\*\\*\\*\\*\\*\\*\\*\\*\\*\\*\\*\\*\\*\\***<br>'))\n",
    "model_me.summary()"
   ]
  },
  {
   "cell_type": "markdown",
   "metadata": {},
   "source": [
    "### Model Training"
   ]
  },
  {
   "cell_type": "code",
   "execution_count": 30,
   "metadata": {},
   "outputs": [],
   "source": [
    "def fit_earlystop(model, X, y, epoch):\n",
    "    #include timing details\n",
    "    dh = display('',display_id=True)\n",
    "    dh.update(md(\"<br>Training is in progress.....\"))\n",
    "    t1 = time.time()\n",
    "\n",
    "    #fitting the RNN to the training set\n",
    "    es = EarlyStopping(patience=5)\n",
    "    model_history = model.fit(X, y, epochs=epoch, verbose=0, callbacks=[es])\n",
    "\n",
    "    tt = time.time()-t1\n",
    "    avg_per_epoch_1l = round(tt/(model_history.epoch[-1]+1),3)\n",
    "    dh.update(md(\"<br>Training is completed! <br><br>Total training time: **{} seconds** <br>Average Training time per epoch: **{} seconds**\".format(round(tt,3), avg_per_epoch_1l)))\n",
    "    \n",
    "    return model_history"
   ]
  },
  {
   "cell_type": "code",
   "execution_count": 31,
   "metadata": {},
   "outputs": [
    {
     "data": {
      "text/markdown": [
       "<br>Training is completed! <br><br>Total training time: **20639.708 seconds** <br>Average Training time per epoch: **206.397 seconds**"
      ],
      "text/plain": [
       "<IPython.core.display.Markdown object>"
      ]
     },
     "metadata": {},
     "output_type": "display_data"
    },
    {
     "name": "stderr",
     "output_type": "stream",
     "text": [
      "C:\\Users\\prtk1\\Anaconda3\\envs\\tf-gpu\\lib\\site-packages\\tensorflow_core\\python\\framework\\indexed_slices.py:433: UserWarning: Converting sparse IndexedSlices to a dense Tensor of unknown shape. This may consume a large amount of memory.\n",
      "  \"Converting sparse IndexedSlices to a dense Tensor of unknown shape. \"\n",
      "C:\\Users\\prtk1\\Anaconda3\\envs\\tf-gpu\\lib\\site-packages\\keras\\callbacks\\callbacks.py:846: RuntimeWarning: Early stopping conditioned on metric `val_loss` which is not available. Available metrics are: loss,accuracy\n",
      "  (self.monitor, ','.join(list(logs.keys()))), RuntimeWarning\n"
     ]
    }
   ],
   "source": [
    "history_me = fit_earlystop(model_me, X_train, y_train, epoch=100)"
   ]
  },
  {
   "cell_type": "markdown",
   "metadata": {},
   "source": [
    "### Model Training Results"
   ]
  },
  {
   "cell_type": "code",
   "execution_count": 32,
   "metadata": {},
   "outputs": [
    {
     "data": {
      "text/markdown": [
       "<br>**\\*\\*\\*\\*\\*\\*\\*\\*\\*\\*\\*\\*\\*\\*\\*\\*\\*\\*\\*\\*\\*\\*\\*\\*\\*\\*\\*\\*\\*\\*\\*\\*\\*\\*\\*\\*\\*\\*\\*\\*\\*\\*\\*\\*\\*\\*\\*\\*\\*\\*\\*\\*\\*\\*\\*\\*\\*\\*\\*\\*\\*\\*\\*\\*\\*\\*\\*\\*\\*\\*\\*\\*\\*     Training Summary    \\*\\*\\*\\*\\*\\*\\*\\*\\*\\*\\*\\*\\*\\*\\*\\*\\*\\*\\*\\*\\*\\*\\*\\*\\*\\*\\*\\*\\*\\*\\*\\*\\*\\*\\*\\*\\*\\*\\*\\*\\*\\*\\*\\*\\*\\*\\*\\*\\*\\*\\*\\*\\*\\*\\*\\*\\*\\*\\*\\*\\*\\*\\*\\*\\*\\*\\*\\*\\*\\*\\*\\*\\*\\***<br>"
      ],
      "text/plain": [
       "<IPython.core.display.Markdown object>"
      ]
     },
     "metadata": {},
     "output_type": "display_data"
    },
    {
     "data": {
      "image/png": "[encoded data removed]",
      "text/plain": [
       "<Figure size 1080x360 with 2 Axes>"
      ]
     },
     "metadata": {
      "needs_background": "light"
     },
     "output_type": "display_data"
    }
   ],
   "source": [
    "plot_graph(history_me)"
   ]
  },
  {
   "cell_type": "markdown",
   "metadata": {},
   "source": [
    "### Experimental Results"
   ]
  },
  {
   "cell_type": "markdown",
   "metadata": {},
   "source": [
    "**Index**:\n",
    "* Model 1: Single Layer LSTM Model\n",
    "* Model 2: Increasing Corpus Size\n",
    "* Model 3: Stacked LSTM layers\n",
    "* Model 4: Adding Dropout Regularization\n",
    "* Model 5: Increasing Number of Epochs + EarlyStopping\n"
   ]
  },
  {
   "cell_type": "code",
   "execution_count": 72,
   "metadata": {},
   "outputs": [],
   "source": [
    "def pred(input_string_1, new_wc_1):\n",
    "    #prediction\n",
    "    result_1l_1  = prediction(model_1l, input_string_1, new_wc_1)\n",
    "    result_ids_1 = prediction(model_ids, input_string_1, new_wc_1)\n",
    "    result_ml_1  = prediction(model_ml, input_string_1, new_wc_1)\n",
    "    result_dr_1  = prediction(model_dr, input_string_1, new_wc_1)\n",
    "    result_me_1  = prediction(model_me, input_string_1, new_wc_1)\n",
    "\n",
    "    #display the results\n",
    "    print('Input string:', input_string_1)\n",
    "    print('Model 1: ', result_1l_1)\n",
    "    print('Model 2: ', result_ids_1)\n",
    "    print('Model 3: ', result_ml_1)\n",
    "    print('Model 4: ', result_dr_1)\n",
    "    print('Model 5: ', result_me_1)"
   ]
  },
  {
   "cell_type": "code",
   "execution_count": 94,
   "metadata": {
    "scrolled": true
   },
   "outputs": [
    {
     "name": "stdout",
     "output_type": "stream",
     "text": [
      "mercantile predicted that\n",
      "10\n",
      "Input string: mercantile predicted that\n",
      "Model 1:  mercantile predicted that grading to figures gold finance expected the . . .\n",
      "Model 2:  mercantile predicted that the only government optimism mine silver silver looks the commodity\n",
      "Model 3:  mercantile predicted that the plan of 3rd the ranges > > > >\n",
      "Model 4:  mercantile predicted that the mine ; ; ; ; ; ; ; ;\n",
      "Model 5:  mercantile predicted that mine near helena , , , , , , ,\n"
     ]
    }
   ],
   "source": [
    "#Example: 1\n",
    "#take the input from the user\n",
    "input_string_1 = input()   #input string\n",
    "new_wc_1 = int(input())    #number of new words requested\n",
    "pred(input_string_1, new_wc_1)"
   ]
  },
  {
   "cell_type": "code",
   "execution_count": 62,
   "metadata": {},
   "outputs": [
    {
     "name": "stdout",
     "output_type": "stream",
     "text": [
      "silver value rose by\n",
      "10\n",
      "Input string:              silver value rose by\n",
      "Model 1:  silver value rose by the ounces the he said 1 hecla commodity gains minted\n",
      "Model 2:  silver value rose by silver & & & & & & & & &\n",
      "Model 3:  silver value rose by a 2 , , , , , , , ,\n",
      "Model 4:  silver value rose by the face half of the company said the thin minted\n",
      "Model 5:  silver value rose by brackets , , , , , , , , ,\n"
     ]
    }
   ],
   "source": [
    "#Example: 2\n",
    "#take the input from the user\n",
    "input_string_1 = input()   #input string\n",
    "new_wc_1 = int(input())    #number of new words requested\n",
    "pred(input_string_1, new_wc_1)"
   ]
  },
  {
   "cell_type": "code",
   "execution_count": 70,
   "metadata": {
    "scrolled": true
   },
   "outputs": [
    {
     "name": "stdout",
     "output_type": "stream",
     "text": [
      "expected cost\n",
      "10\n",
      "Input string:              expected cost\n",
      "Model 1:  expected cost . . . . . . . . . .\n",
      "Model 2:  expected cost hallmarked ; ; ; ; ; ; ; ; ;\n",
      "Model 3:  expected cost to 698 to produce weak exchange , , , ,\n",
      "Model 4:  expected cost in the end of the company said . . .\n",
      "Model 5:  expected cost in the number of silver limits minging broad earnings to\n"
     ]
    }
   ],
   "source": [
    "#Example: 3\n",
    "#take the input from the user\n",
    "input_string_1 = input()   #input string\n",
    "new_wc_1 = int(input())    #number of new words requested\n",
    "pred(input_string_1, new_wc_1)"
   ]
  },
  {
   "cell_type": "code",
   "execution_count": 77,
   "metadata": {},
   "outputs": [
    {
     "name": "stdout",
     "output_type": "stream",
     "text": [
      "little reaction to\n",
      "10\n",
      "Input string: little reaction to\n",
      "Model 1:  little reaction to minerals gold finance their . . . . . .\n",
      "Model 2:  little reaction to removal comex the central government for two , , ,\n",
      "Model 3:  little reaction to purchase the 28 of 3rd the ranges said said william\n",
      "Model 4:  little reaction to be having little venture for the golden patricia property .\n",
      "Model 5:  little reaction to continue , , , , , , , , ,\n"
     ]
    }
   ],
   "source": [
    "#Example: 4\n",
    "#take the input from the user\n",
    "input_string_1 = input()   #input string\n",
    "new_wc_1 = int(input())    #number of new words requested\n",
    "pred(input_string_1, new_wc_1)"
   ]
  },
  {
   "cell_type": "code",
   "execution_count": 78,
   "metadata": {},
   "outputs": [
    {
     "name": "stdout",
     "output_type": "stream",
     "text": [
      "Vice president\n",
      "10\n",
      "Input string: Vice president\n",
      "Model 1:  Vice president silver per silver per let anniversary the . . .\n",
      "Model 2:  Vice president to raise myra falls capacity to silver mine stake on\n",
      "Model 3:  Vice president for silver futures said said it plans , , ,\n",
      "Model 4:  Vice president for the mine ; ; ; ; ; ; ;\n",
      "Model 5:  Vice president / / / / / / / / / /\n"
     ]
    }
   ],
   "source": [
    "#Example: 5\n",
    "#take the input from the user\n",
    "input_string_1 = input()   #input string\n",
    "new_wc_1 = int(input())    #number of new words requested\n",
    "pred(input_string_1, new_wc_1)"
   ]
  },
  {
   "cell_type": "code",
   "execution_count": 79,
   "metadata": {},
   "outputs": [
    {
     "name": "stdout",
     "output_type": "stream",
     "text": [
      "new york committed to\n",
      "10\n",
      "Input string: new york committed to\n",
      "Model 1:  new york committed to despite exchange at short year 000 . . . .\n",
      "Model 2:  new york committed to raise myra falls capacity to buy mine silver production on\n",
      "Model 3:  new york committed to encouraging > > > > > > > > >\n",
      "Model 4:  new york committed to be having little venture for the mine market . .\n",
      "Model 5:  new york committed to be having 67 , , , , , , ,\n"
     ]
    }
   ],
   "source": [
    "#Example: 6\n",
    "#take the input from the user\n",
    "input_string_1 = input()   #input string\n",
    "new_wc_1 = int(input())    #number of new words requested\n",
    "pred(input_string_1, new_wc_1)"
   ]
  },
  {
   "cell_type": "code",
   "execution_count": 81,
   "metadata": {},
   "outputs": [
    {
     "name": "stdout",
     "output_type": "stream",
     "text": [
      "traders who are holding stocks\n",
      "10\n",
      "Input string: traders who are holding stocks\n",
      "Model 1:  traders who are holding stocks hecla commodity gains common exchange share the gold year 000\n",
      "Model 2:  traders who are holding stocks for silver yields looks the commodity exchange of the switching\n",
      "Model 3:  traders who are holding stocks for the feasibility potential calls . . . . .\n",
      "Model 4:  traders who are holding stocks of the golden patricia property . . . . .\n",
      "Model 5:  traders who are holding stocks for silver futures inc . . . . . .\n"
     ]
    }
   ],
   "source": [
    "#Example: 7\n",
    "#take the input from the user\n",
    "input_string_1 = input()   #input string\n",
    "new_wc_1 = int(input())    #number of new words requested\n",
    "pred(input_string_1, new_wc_1)"
   ]
  },
  {
   "cell_type": "code",
   "execution_count": 83,
   "metadata": {},
   "outputs": [
    {
     "name": "stdout",
     "output_type": "stream",
     "text": [
      "a spokesman for the assay officers\n",
      "15\n",
      "Input string: a spokesman for the assay officers\n",
      "Model 1:  a spokesman for the assay officers . . . . . . . . . . . . . . .\n",
      "Model 2:  a spokesman for the assay officers phase to produce 6 . . . . . . . . . . .\n",
      "Model 3:  a spokesman for the assay officers potential for the discovery of the south dakota has been shown by the portuguese is\n",
      "Model 4:  a spokesman for the assay officers offices of the golden patricia property . . . . . . . . .\n",
      "Model 5:  a spokesman for the assay officers dynamite optimism capacity processed a face value of the south dakota has owned muskeg lake\n"
     ]
    }
   ],
   "source": [
    "#Example: 8\n",
    "#take the input from the user\n",
    "input_string_1 = input()   #input string\n",
    "new_wc_1 = int(input())    #number of new words requested\n",
    "pred(input_string_1, new_wc_1)"
   ]
  },
  {
   "cell_type": "code",
   "execution_count": 85,
   "metadata": {},
   "outputs": [
    {
     "name": "stdout",
     "output_type": "stream",
     "text": [
      "silver futures were trading about\n",
      "15\n",
      "Input string: silver futures were trading about\n",
      "Model 1:  silver futures were trading about . . . . . . . . . . . . . . .\n",
      "Model 2:  silver futures were trading about silver & & & & & & & & & & & & & &\n",
      "Model 3:  silver futures were trading about improving , , , , , , , , , , , , , ,\n",
      "Model 4:  silver futures were trading about the been creek joint venture for the golden patricia property . . . . .\n",
      "Model 5:  silver futures were trading about 30 soar on its rejection of 3rd silver contracts . . . . . .\n"
     ]
    }
   ],
   "source": [
    "#Example: 9\n",
    "#take the input from the user\n",
    "input_string_1 = input()   #input string\n",
    "new_wc_1 = int(input())    #number of new words requested\n",
    "pred(input_string_1, new_wc_1)"
   ]
  },
  {
   "cell_type": "code",
   "execution_count": 93,
   "metadata": {},
   "outputs": [
    {
     "name": "stdout",
     "output_type": "stream",
     "text": [
      "milling operations have started\n",
      "10\n",
      "Input string: milling operations have started\n",
      "Model 1:  milling operations have started expected to commodity gains common exchange share articles gold year\n",
      "Model 2:  milling operations have started to mint community guerrillas 33 . . . . .\n",
      "Model 3:  milling operations have started of silver futures said said it plans , , ,\n",
      "Model 4:  milling operations have started of the mine ; ; ; ; ; ; ;\n",
      "Model 5:  milling operations have started for silver limits on the commodity exchange , , ,\n"
     ]
    }
   ],
   "source": [
    "#Example: 10\n",
    "#take the input from the user\n",
    "input_string_1 = input()   #input string\n",
    "new_wc_1 = int(input())    #number of new words requested\n",
    "pred(input_string_1, new_wc_1)"
   ]
  },
  {
   "cell_type": "markdown",
   "metadata": {},
   "source": [
    "## key Inferences\n",
    "\n",
    "1. Based on the value of loss for the final epoch and the text generated for the 10 examples given above we can infer that model 2 and model 5 work better than the other models. <br><br>\n",
    "\n",
    "2. The models are able to understand the relationship between the words upto a certain extent and continue adding words to an open ended sentence. <br><br>\n",
    "\n",
    "3. In example 5, we see that the model understands the meaning of the words 'Vice President' and knows that a vice president is able to 'say' something. The prediction 'Vice President said it plans..' give us compelling evidence of the same.<br><br>\n",
    "\n",
    "4. The models also realizes the relationship between words and numbers. In example 9, we witness model 5 predicting a number value after the input sentence 'Silver futures were trading about'. The model understoood that a number was warranted based on what it had read in the input, the model also uses the words like contracts which is a unit of futures trading.<br><br>\n",
    "\n",
    "5. The model has certain shortcomings too. The model fails to understand how to continue a sentence given any punctuation mark. <br><br>\n",
    "\n",
    "6. The sentences generated by the model often do make any sense which can be attributed to the lack of training data and lack of computation power to build a more complex model.<br><br>"
   ]
  },
  {
   "cell_type": "markdown",
   "metadata": {},
   "source": [
    "## Future Work\n",
    "\n",
    "1. We believe that increasing the training dataset of the model woould improve the text generation capabilities of the model multifold. <br><br>\n",
    "\n",
    "2. Implementing pretrained word embeddings like GloVe or Word2vec would be instrumental in achieving high accuracy in text generation. <br><br>\n",
    "\n",
    "3. Implemention techniques such as POS(Part of speech) tagging will help the model understand parts of speec and thus understand the relationship between the words better. \n"
   ]
  },
  {
   "cell_type": "markdown",
   "metadata": {},
   "source": [
    "## Conclusion"
   ]
  },
  {
   "cell_type": "markdown",
   "metadata": {},
   "source": [
    "After having worked with image datasets for most of the projects this semester, we decided to apply ourselves and the the course material we have learned so far to tasks that all of us use use on daily basis. Lnaguage modelling tasks surround us in every aspect of our lives. We have successfully built a text generation model using an LSTM model. The models developed understand the relationship between words and sentences. We aim to understand more about text generation and other language tasks in the future. "
   ]
  },
  {
   "cell_type": "markdown",
   "metadata": {},
   "source": [
    "<h2> Acknowledgment </h2><br>\n",
    "We would like to express our gratitude to Dr. Timothy Havens, who helped us along the project with his insightful notes and lectures. We would also like to thank the TAs for their guidance in moments of difficulty."
   ]
  },
  {
   "cell_type": "markdown",
   "metadata": {},
   "source": [
    "<h2>References</h2>\n",
    "\n",
    "* Prof. Timothy Haven’s Lecture Notes.<br>\n",
    "* Prof. Keith Vertanen's Speech and Language Processing notes(CS5090)<br>\n",
    "* https://keras.io/preprocessing/text/<br>\n",
    "* https://colah.github.io/posts/2015-08-Understanding-LSTMs/<br>\n",
    "* https://colah.github.io/posts/2014-07-NLP-RNNs-Representations/<br>"
   ]
  }
 ],
 "metadata": {
  "kernelspec": {
   "display_name": "TensorFlow-GPU-1.13",
   "language": "python",
   "name": "tf-gpu"
  },
  "language_info": {
   "codemirror_mode": {
    "name": "ipython",
    "version": 3
   },
   "file_extension": ".py",
   "mimetype": "text/x-python",
   "name": "python",
   "nbconvert_exporter": "python",
   "pygments_lexer": "ipython3",
   "version": "3.7.7"
  }
 },
 "nbformat": 4,
 "nbformat_minor": 2
}
